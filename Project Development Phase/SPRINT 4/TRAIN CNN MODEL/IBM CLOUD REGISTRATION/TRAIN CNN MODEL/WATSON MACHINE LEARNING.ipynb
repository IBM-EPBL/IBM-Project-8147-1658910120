{
 "cells": [
  {
   "cell_type": "code",
   "execution_count": 1,
   "id": "6ddd2618",
   "metadata": {},
   "outputs": [
    {
     "name": "stdout",
     "output_type": "stream",
     "text": [
      "Defaulting to user installation because normal site-packages is not writeable\n",
      "Collecting ibm_watson_machine_learning\n",
      "  Downloading ibm_watson_machine_learning-1.0.257-py3-none-any.whl (1.8 MB)\n",
      "     ---------------------------------------- 1.8/1.8 MB 27.4 kB/s eta 0:00:00\n",
      "Requirement already satisfied: pandas<1.5.0,>=0.24.2 in c:\\programdata\\anaconda3\\lib\\site-packages (from ibm_watson_machine_learning) (1.4.4)\n",
      "Requirement already satisfied: tabulate in c:\\programdata\\anaconda3\\lib\\site-packages (from ibm_watson_machine_learning) (0.8.10)\n",
      "Requirement already satisfied: certifi in c:\\programdata\\anaconda3\\lib\\site-packages (from ibm_watson_machine_learning) (2022.9.14)\n",
      "Collecting lomond\n",
      "  Downloading lomond-0.3.3-py2.py3-none-any.whl (35 kB)\n",
      "Requirement already satisfied: packaging in c:\\programdata\\anaconda3\\lib\\site-packages (from ibm_watson_machine_learning) (21.3)\n",
      "Requirement already satisfied: requests in c:\\programdata\\anaconda3\\lib\\site-packages (from ibm_watson_machine_learning) (2.28.1)\n",
      "Collecting ibm-cos-sdk==2.11.*\n",
      "  Downloading ibm-cos-sdk-2.11.0.tar.gz (53 kB)\n",
      "     --------------------------------------- 53.3/53.3 kB 24.0 kB/s eta 0:00:00\n",
      "  Preparing metadata (setup.py): started\n",
      "  Preparing metadata (setup.py): finished with status 'done'\n",
      "Requirement already satisfied: importlib-metadata in c:\\programdata\\anaconda3\\lib\\site-packages (from ibm_watson_machine_learning) (4.11.3)\n",
      "Requirement already satisfied: urllib3 in c:\\programdata\\anaconda3\\lib\\site-packages (from ibm_watson_machine_learning) (1.26.11)\n",
      "Collecting ibm-cos-sdk-core==2.11.0\n",
      "  Downloading ibm-cos-sdk-core-2.11.0.tar.gz (913 kB)\n",
      "     ------------------------------------- 913.9/913.9 kB 34.9 kB/s eta 0:00:00\n",
      "  Preparing metadata (setup.py): started\n",
      "  Preparing metadata (setup.py): finished with status 'done'\n",
      "Collecting ibm-cos-sdk-s3transfer==2.11.0\n",
      "  Downloading ibm-cos-sdk-s3transfer-2.11.0.tar.gz (135 kB)\n",
      "     ------------------------------------- 135.6/135.6 kB 21.1 kB/s eta 0:00:00\n",
      "  Preparing metadata (setup.py): started\n",
      "  Preparing metadata (setup.py): finished with status 'done'\n",
      "Requirement already satisfied: jmespath<1.0.0,>=0.7.1 in c:\\programdata\\anaconda3\\lib\\site-packages (from ibm-cos-sdk==2.11.*->ibm_watson_machine_learning) (0.10.0)\n",
      "Requirement already satisfied: python-dateutil<3.0.0,>=2.1 in c:\\programdata\\anaconda3\\lib\\site-packages (from ibm-cos-sdk-core==2.11.0->ibm-cos-sdk==2.11.*->ibm_watson_machine_learning) (2.8.2)\n",
      "Requirement already satisfied: pytz>=2020.1 in c:\\programdata\\anaconda3\\lib\\site-packages (from pandas<1.5.0,>=0.24.2->ibm_watson_machine_learning) (2022.1)\n",
      "Requirement already satisfied: numpy>=1.18.5 in c:\\programdata\\anaconda3\\lib\\site-packages (from pandas<1.5.0,>=0.24.2->ibm_watson_machine_learning) (1.21.5)\n",
      "Requirement already satisfied: idna<4,>=2.5 in c:\\programdata\\anaconda3\\lib\\site-packages (from requests->ibm_watson_machine_learning) (3.3)\n",
      "Requirement already satisfied: charset-normalizer<3,>=2 in c:\\programdata\\anaconda3\\lib\\site-packages (from requests->ibm_watson_machine_learning) (2.0.4)\n",
      "Requirement already satisfied: zipp>=0.5 in c:\\programdata\\anaconda3\\lib\\site-packages (from importlib-metadata->ibm_watson_machine_learning) (3.8.0)\n",
      "Requirement already satisfied: six>=1.10.0 in c:\\programdata\\anaconda3\\lib\\site-packages (from lomond->ibm_watson_machine_learning) (1.16.0)\n",
      "Requirement already satisfied: pyparsing!=3.0.5,>=2.0.2 in c:\\programdata\\anaconda3\\lib\\site-packages (from packaging->ibm_watson_machine_learning) (3.0.9)\n",
      "Building wheels for collected packages: ibm-cos-sdk, ibm-cos-sdk-core, ibm-cos-sdk-s3transfer\n",
      "  Building wheel for ibm-cos-sdk (setup.py): started\n",
      "  Building wheel for ibm-cos-sdk (setup.py): finished with status 'done'\n",
      "  Created wheel for ibm-cos-sdk: filename=ibm_cos_sdk-2.11.0-py3-none-any.whl size=73641 sha256=897d1734b58f25ea3276cb3dc15edbdd7d89210d3fb1c23eca66a18ae105f66e\n",
      "  Stored in directory: c:\\users\\dhanushraj\\appdata\\local\\pip\\cache\\wheels\\d3\\a5\\34\\52d2e378d3d0446989ebcd214af8bad55beecf905258852b9f\n",
      "  Building wheel for ibm-cos-sdk-core (setup.py): started\n",
      "  Building wheel for ibm-cos-sdk-core (setup.py): finished with status 'done'\n",
      "  Created wheel for ibm-cos-sdk-core: filename=ibm_cos_sdk_core-2.11.0-py3-none-any.whl size=536333 sha256=c92e1d9e1c7b9d285dde4b1f6cf976f4c51635813332fcc777325059326a9dcc\n",
      "  Stored in directory: c:\\users\\dhanushraj\\appdata\\local\\pip\\cache\\wheels\\ed\\a7\\cd\\32a2cf8bae11ba6fc56451b7c46608cfd9176d1da8c6f73fa1\n",
      "  Building wheel for ibm-cos-sdk-s3transfer (setup.py): started\n",
      "  Building wheel for ibm-cos-sdk-s3transfer (setup.py): finished with status 'done'\n",
      "  Created wheel for ibm-cos-sdk-s3transfer: filename=ibm_cos_sdk_s3transfer-2.11.0-py3-none-any.whl size=89471 sha256=f9a9f2264d6511e73bc740256508acdd83ea310d56759a9f2c31e77bd33b0042\n",
      "  Stored in directory: c:\\users\\dhanushraj\\appdata\\local\\pip\\cache\\wheels\\4a\\3f\\7c\\551692188f14bdb095e715dd7f1061fec13b3766d45f3c3296\n",
      "Successfully built ibm-cos-sdk ibm-cos-sdk-core ibm-cos-sdk-s3transfer\n",
      "Installing collected packages: lomond, ibm-cos-sdk-core, ibm-cos-sdk-s3transfer, ibm-cos-sdk, ibm_watson_machine_learning\n",
      "Successfully installed ibm-cos-sdk-2.11.0 ibm-cos-sdk-core-2.11.0 ibm-cos-sdk-s3transfer-2.11.0 ibm_watson_machine_learning-1.0.257 lomond-0.3.3\n"
     ]
    }
   ],
   "source": [
    "!pip install ibm_watson_machine_learning"
   ]
  },
  {
   "cell_type": "code",
   "execution_count": 2,
   "id": "6fb7bc02",
   "metadata": {},
   "outputs": [],
   "source": [
    "from ibm_watson_machine_learning import APIClient"
   ]
  },
  {
   "cell_type": "code",
   "execution_count": 3,
   "id": "8dab10af",
   "metadata": {},
   "outputs": [],
   "source": [
    "wml_credentials={\n",
    "    \"url\":\"https://eu-de.ml.cloud.ibm.com\",\n",
    "    \"apikey\":\"ufX4oRE2H8ZkKScsbk6pWRicqla_leNHSh0qL6wdkOgF\"\n",
    "}"
   ]
  },
  {
   "cell_type": "code",
   "execution_count": 4,
   "id": "63968d88",
   "metadata": {},
   "outputs": [],
   "source": [
    "client= APIClient(wml_credentials)"
   ]
  },
  {
   "cell_type": "code",
   "execution_count": 6,
   "id": "27a7c36d",
   "metadata": {},
   "outputs": [
    {
     "name": "stdout",
     "output_type": "stream",
     "text": [
      "Note: 'limit' is not provided. Only first 50 records will be displayed if the number of records exceed 50\n",
      "------------------------------------  -------------  ------------------------\n",
      "ID                                    NAME           CREATED\n",
      "e19d4427-3814-4240-b5bb-1eed3cf5df1a  communication  2022-11-16T16:08:30.386Z\n",
      "------------------------------------  -------------  ------------------------\n"
     ]
    }
   ],
   "source": [
    "client.spaces.list()"
   ]
  },
  {
   "cell_type": "code",
   "execution_count": 7,
   "id": "d77addfc",
   "metadata": {},
   "outputs": [],
   "source": [
    "space_id=\"e19d4427-3814-4240-b5bb-1eed3cf5df1a\""
   ]
  },
  {
   "cell_type": "code",
   "execution_count": 8,
   "id": "4b324510",
   "metadata": {},
   "outputs": [
    {
     "data": {
      "text/plain": [
       "'SUCCESS'"
      ]
     },
     "execution_count": 8,
     "metadata": {},
     "output_type": "execute_result"
    }
   ],
   "source": [
    "client.set.default_space(space_id)"
   ]
  },
  {
   "cell_type": "code",
   "execution_count": 5,
   "id": "1b52305e",
   "metadata": {},
   "outputs": [],
   "source": [
    "model_id =\"50325158-1f40-47e7-ae49-b8dc9c4fe703\""
   ]
  },
  {
   "cell_type": "code",
   "execution_count": 10,
   "id": "b1fe68d9",
   "metadata": {},
   "outputs": [
    {
     "name": "stderr",
     "output_type": "stream",
     "text": [
      "File with name: 'realtime.tgz' already exists.\n"
     ]
    },
    {
     "ename": "WMLClientError",
     "evalue": "File with name: 'realtime.tgz' already exists.",
     "output_type": "error",
     "traceback": [
      "\u001b[1;31m---------------------------------------------------------------------------\u001b[0m",
      "\u001b[1;31mWMLClientError\u001b[0m                            Traceback (most recent call last)",
      "\u001b[1;32m~\\AppData\\Local\\Temp\\ipykernel_5504\\1060393851.py\u001b[0m in \u001b[0;36m<module>\u001b[1;34m\u001b[0m\n\u001b[1;32m----> 1\u001b[1;33m \u001b[0mclient\u001b[0m\u001b[1;33m.\u001b[0m\u001b[0mrepository\u001b[0m\u001b[1;33m.\u001b[0m\u001b[0mdownload\u001b[0m\u001b[1;33m(\u001b[0m\u001b[0mmodel_id\u001b[0m\u001b[1;33m,\u001b[0m\u001b[1;34m'realtime.tgz'\u001b[0m\u001b[1;33m)\u001b[0m\u001b[1;33m\u001b[0m\u001b[1;33m\u001b[0m\u001b[0m\n\u001b[0m",
      "\u001b[1;32m~\\AppData\\Roaming\\Python\\Python39\\site-packages\\ibm_watson_machine_learning\\repository.py\u001b[0m in \u001b[0;36mdownload\u001b[1;34m(self, artifact_uid, filename, rev_uid, format)\u001b[0m\n\u001b[0;32m    901\u001b[0m \u001b[1;33m\u001b[0m\u001b[0m\n\u001b[0;32m    902\u001b[0m         \u001b[1;32mif\u001b[0m \u001b[0mres\u001b[0m\u001b[1;33m[\u001b[0m\u001b[1;34m'model'\u001b[0m\u001b[1;33m]\u001b[0m \u001b[1;32mis\u001b[0m \u001b[1;32mTrue\u001b[0m\u001b[1;33m:\u001b[0m\u001b[1;33m\u001b[0m\u001b[1;33m\u001b[0m\u001b[0m\n\u001b[1;32m--> 903\u001b[1;33m             \u001b[1;32mreturn\u001b[0m \u001b[0mself\u001b[0m\u001b[1;33m.\u001b[0m\u001b[0m_client\u001b[0m\u001b[1;33m.\u001b[0m\u001b[0m_models\u001b[0m\u001b[1;33m.\u001b[0m\u001b[0mdownload\u001b[0m\u001b[1;33m(\u001b[0m\u001b[0martifact_uid\u001b[0m\u001b[1;33m,\u001b[0m \u001b[0mfilename\u001b[0m\u001b[1;33m,\u001b[0m \u001b[0mrev_uid\u001b[0m\u001b[1;33m,\u001b[0m\u001b[0mformat\u001b[0m\u001b[1;33m)\u001b[0m\u001b[1;33m\u001b[0m\u001b[1;33m\u001b[0m\u001b[0m\n\u001b[0m\u001b[0;32m    904\u001b[0m         \u001b[1;32melif\u001b[0m \u001b[0mres\u001b[0m\u001b[1;33m[\u001b[0m\u001b[1;34m'function'\u001b[0m\u001b[1;33m]\u001b[0m \u001b[1;32mis\u001b[0m \u001b[1;32mTrue\u001b[0m\u001b[1;33m:\u001b[0m\u001b[1;33m\u001b[0m\u001b[1;33m\u001b[0m\u001b[0m\n\u001b[0;32m    905\u001b[0m             \u001b[1;32mreturn\u001b[0m \u001b[0mself\u001b[0m\u001b[1;33m.\u001b[0m\u001b[0m_client\u001b[0m\u001b[1;33m.\u001b[0m\u001b[0m_functions\u001b[0m\u001b[1;33m.\u001b[0m\u001b[0mdownload\u001b[0m\u001b[1;33m(\u001b[0m\u001b[0martifact_uid\u001b[0m\u001b[1;33m,\u001b[0m \u001b[0mfilename\u001b[0m\u001b[1;33m,\u001b[0m \u001b[0mrev_uid\u001b[0m\u001b[1;33m)\u001b[0m\u001b[1;33m\u001b[0m\u001b[1;33m\u001b[0m\u001b[0m\n",
      "\u001b[1;32m~\\AppData\\Roaming\\Python\\Python39\\site-packages\\ibm_watson_machine_learning\\models.py\u001b[0m in \u001b[0;36mdownload\u001b[1;34m(self, model_uid, filename, rev_uid, format)\u001b[0m\n\u001b[0;32m   1803\u001b[0m         \"\"\"\n\u001b[0;32m   1804\u001b[0m         \u001b[1;32mif\u001b[0m \u001b[0mos\u001b[0m\u001b[1;33m.\u001b[0m\u001b[0mpath\u001b[0m\u001b[1;33m.\u001b[0m\u001b[0misfile\u001b[0m\u001b[1;33m(\u001b[0m\u001b[0mfilename\u001b[0m\u001b[1;33m)\u001b[0m\u001b[1;33m:\u001b[0m\u001b[1;33m\u001b[0m\u001b[1;33m\u001b[0m\u001b[0m\n\u001b[1;32m-> 1805\u001b[1;33m             \u001b[1;32mraise\u001b[0m \u001b[0mWMLClientError\u001b[0m\u001b[1;33m(\u001b[0m\u001b[1;34mu'File with name: \\'{}\\' already exists.'\u001b[0m\u001b[1;33m.\u001b[0m\u001b[0mformat\u001b[0m\u001b[1;33m(\u001b[0m\u001b[0mfilename\u001b[0m\u001b[1;33m)\u001b[0m\u001b[1;33m)\u001b[0m\u001b[1;33m\u001b[0m\u001b[1;33m\u001b[0m\u001b[0m\n\u001b[0m\u001b[0;32m   1806\u001b[0m         \u001b[1;32mif\u001b[0m \u001b[0mrev_uid\u001b[0m \u001b[1;32mis\u001b[0m \u001b[1;32mnot\u001b[0m \u001b[1;32mNone\u001b[0m \u001b[1;32mand\u001b[0m \u001b[0mself\u001b[0m\u001b[1;33m.\u001b[0m\u001b[0m_client\u001b[0m\u001b[1;33m.\u001b[0m\u001b[0mICP_30\u001b[0m \u001b[1;32mis\u001b[0m \u001b[1;32mNone\u001b[0m \u001b[1;32mand\u001b[0m \u001b[1;32mnot\u001b[0m \u001b[0mself\u001b[0m\u001b[1;33m.\u001b[0m\u001b[0m_client\u001b[0m\u001b[1;33m.\u001b[0m\u001b[0mCLOUD_PLATFORM_SPACES\u001b[0m\u001b[0;31m\\\u001b[0m\u001b[1;33m\u001b[0m\u001b[1;33m\u001b[0m\u001b[0m\n\u001b[0;32m   1807\u001b[0m                 \u001b[1;32mand\u001b[0m \u001b[0mself\u001b[0m\u001b[1;33m.\u001b[0m\u001b[0m_client\u001b[0m\u001b[1;33m.\u001b[0m\u001b[0mICP_35\u001b[0m \u001b[1;32mis\u001b[0m \u001b[1;32mNone\u001b[0m \u001b[1;32mand\u001b[0m \u001b[0mself\u001b[0m\u001b[1;33m.\u001b[0m\u001b[0m_client\u001b[0m\u001b[1;33m.\u001b[0m\u001b[0mICP_40\u001b[0m \u001b[1;32mis\u001b[0m \u001b[1;32mNone\u001b[0m \u001b[1;32mand\u001b[0m \u001b[0mself\u001b[0m\u001b[1;33m.\u001b[0m\u001b[0m_client\u001b[0m\u001b[1;33m.\u001b[0m\u001b[0mICP_45\u001b[0m \u001b[1;32mis\u001b[0m \u001b[1;32mNone\u001b[0m\u001b[0;31m \u001b[0m\u001b[0;31m\\\u001b[0m\u001b[1;33m\u001b[0m\u001b[1;33m\u001b[0m\u001b[0m\n",
      "\u001b[1;31mWMLClientError\u001b[0m: File with name: 'realtime.tgz' already exists."
     ]
    }
   ],
   "source": [
    "client.repository.download(model_id,'realtime.tgz')"
   ]
  },
  {
   "cell_type": "code",
   "execution_count": null,
   "id": "59d51807",
   "metadata": {},
   "outputs": [],
   "source": []
  }
 ],
 "metadata": {
  "kernelspec": {
   "display_name": "Python 3 (ipykernel)",
   "language": "python",
   "name": "python3"
  },
  "language_info": {
   "codemirror_mode": {
    "name": "ipython",
    "version": 3
   },
   "file_extension": ".py",
   "mimetype": "text/x-python",
   "name": "python",
   "nbconvert_exporter": "python",
   "pygments_lexer": "ipython3",
   "version": "3.9.13"
  }
 },
 "nbformat": 4,
 "nbformat_minor": 5
}
